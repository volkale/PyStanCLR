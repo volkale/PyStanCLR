{
 "cells": [
  {
   "cell_type": "code",
   "execution_count": 1,
   "id": "1d5383c2-cf6f-48e7-ba2b-776899806950",
   "metadata": {},
   "outputs": [
    {
     "name": "stderr",
     "output_type": "stream",
     "text": [
      "INFO:numexpr.utils:NumExpr defaulting to 4 threads.\n",
      "/opt/conda/lib/python3.9/site-packages/pandas/core/computation/expressions.py:21: UserWarning: Pandas requires version '2.8.4' or newer of 'numexpr' (version '2.8.3' currently installed).\n",
      "  from pandas.core.computation.check import NUMEXPR_INSTALLED\n",
      "/opt/conda/lib/python3.9/site-packages/pandas/core/arrays/masked.py:60: UserWarning: Pandas requires version '1.3.6' or newer of 'bottleneck' (version '1.3.5' currently installed).\n",
      "  from pandas.core import (\n"
     ]
    }
   ],
   "source": [
    "import numpy as np\n",
    "import pystan\n",
    "import arviz as az\n",
    "\n",
    "from data_generation import get_sample_data, INTERCEPT_TRUE, BETA_TRUE, SIGMA_TRUE\n",
    "from model_compilation import load_compiled_stan_model\n",
    "from data_compression import get_input_data_for_stan_model"
   ]
  },
  {
   "cell_type": "code",
   "execution_count": 2,
   "id": "91b58b29-ed33-43bb-83c2-90e5b56db65d",
   "metadata": {},
   "outputs": [],
   "source": [
    "# Generate Dummy Data\n",
    "np.random.seed(1234)\n",
    "\n",
    "n_samples = 1_000_000  # original number of observations\n",
    "n_feature_values = 4  # number of distinct feature values per feature\n",
    "\n",
    "df = get_sample_data(n_samples, n_feature_values)"
   ]
  },
  {
   "cell_type": "code",
   "execution_count": 3,
   "id": "cfb82e63-ccf0-4b2b-a9b2-0ead1caa5289",
   "metadata": {},
   "outputs": [
    {
     "data": {
      "text/html": [
       "<div>\n",
       "<style scoped>\n",
       "    .dataframe tbody tr th:only-of-type {\n",
       "        vertical-align: middle;\n",
       "    }\n",
       "\n",
       "    .dataframe tbody tr th {\n",
       "        vertical-align: top;\n",
       "    }\n",
       "\n",
       "    .dataframe thead th {\n",
       "        text-align: right;\n",
       "    }\n",
       "</style>\n",
       "<table border=\"1\" class=\"dataframe\">\n",
       "  <thead>\n",
       "    <tr style=\"text-align: right;\">\n",
       "      <th></th>\n",
       "      <th>x0</th>\n",
       "      <th>x1</th>\n",
       "      <th>x2</th>\n",
       "      <th>y</th>\n",
       "    </tr>\n",
       "  </thead>\n",
       "  <tbody>\n",
       "    <tr>\n",
       "      <th>0</th>\n",
       "      <td>3</td>\n",
       "      <td>3</td>\n",
       "      <td>2</td>\n",
       "      <td>7.137917</td>\n",
       "    </tr>\n",
       "    <tr>\n",
       "      <th>1</th>\n",
       "      <td>1</td>\n",
       "      <td>0</td>\n",
       "      <td>0</td>\n",
       "      <td>1.945393</td>\n",
       "    </tr>\n",
       "    <tr>\n",
       "      <th>2</th>\n",
       "      <td>0</td>\n",
       "      <td>1</td>\n",
       "      <td>3</td>\n",
       "      <td>-1.085533</td>\n",
       "    </tr>\n",
       "    <tr>\n",
       "      <th>3</th>\n",
       "      <td>1</td>\n",
       "      <td>3</td>\n",
       "      <td>1</td>\n",
       "      <td>6.466830</td>\n",
       "    </tr>\n",
       "    <tr>\n",
       "      <th>4</th>\n",
       "      <td>2</td>\n",
       "      <td>2</td>\n",
       "      <td>3</td>\n",
       "      <td>3.576979</td>\n",
       "    </tr>\n",
       "  </tbody>\n",
       "</table>\n",
       "</div>"
      ],
      "text/plain": [
       "   x0  x1  x2         y\n",
       "0   3   3   2  7.137917\n",
       "1   1   0   0  1.945393\n",
       "2   0   1   3 -1.085533\n",
       "3   1   3   1  6.466830\n",
       "4   2   2   3  3.576979"
      ]
     },
     "execution_count": 3,
     "metadata": {},
     "output_type": "execute_result"
    }
   ],
   "source": [
    "df.head()"
   ]
  },
  {
   "cell_type": "code",
   "execution_count": 4,
   "id": "d08ac269-550c-4b69-be9b-f928c90af1cf",
   "metadata": {},
   "outputs": [],
   "source": [
    "def get_fit(formula, df):\n",
    "    stan_data = get_input_data_for_stan_model(formula, df)\n",
    "    sm = load_compiled_stan_model('linear_regression.stan')\n",
    "    fit = sm.sampling(data=stan_data, iter=2000, chains=4, seed=123, verbose=False)\n",
    "    return fit"
   ]
  },
  {
   "cell_type": "code",
   "execution_count": 5,
   "id": "619b009d-46c5-4b3a-9e29-b489f27f961d",
   "metadata": {},
   "outputs": [
    {
     "name": "stdout",
     "output_type": "stream",
     "text": [
      "Stan model loaded from lm_model_774164710.pkl\n",
      "\n",
      "\n",
      "Gradient evaluation took 6.4e-05 seconds\n",
      "Gradient evaluation took 5.3e-05 seconds\n",
      "1000 transitions using 10 leapfrog steps per transition would take 0.64 seconds.\n",
      "Adjust your expectations accordingly!\n",
      "\n",
      "\n",
      "1000 transitions using 10 leapfrog steps per transition would take 0.53 seconds.\n",
      "Adjust your expectations accordingly!\n",
      "\n",
      "\n",
      "\n",
      "Gradient evaluation took 0.000215 seconds\n",
      "1000 transitions using 10 leapfrog steps per transition would take 2.15 seconds.\n",
      "Adjust your expectations accordingly!\n",
      "\n",
      "\n",
      "Iteration:    1 / 2000 [  0%]  (Warmup)\n",
      "Iteration:    1 / 2000 [  0%]  (Warmup)\n",
      "\n",
      "Gradient evaluation took 4.4e-05 seconds\n",
      "1000 transitions using 10 leapfrog steps per transition would take 0.44 seconds.\n",
      "Adjust your expectations accordingly!\n",
      "\n",
      "\n",
      "Iteration:    1 / 2000 [  0%]  (Warmup)\n",
      "Iteration:    1 / 2000 [  0%]  (Warmup)\n",
      "Iteration:  200 / 2000 [ 10%]  (Warmup)\n",
      "Iteration:  200 / 2000 [ 10%]  (Warmup)\n",
      "Iteration:  200 / 2000 [ 10%]  (Warmup)\n",
      "Iteration:  200 / 2000 [ 10%]  (Warmup)\n",
      "Iteration:  400 / 2000 [ 20%]  (Warmup)\n",
      "Iteration:  400 / 2000 [ 20%]  (Warmup)\n",
      "Iteration:  400 / 2000 [ 20%]  (Warmup)\n",
      "Iteration:  400 / 2000 [ 20%]  (Warmup)\n",
      "Iteration:  600 / 2000 [ 30%]  (Warmup)\n",
      "Iteration:  600 / 2000 [ 30%]  (Warmup)\n",
      "Iteration:  600 / 2000 [ 30%]  (Warmup)\n",
      "Iteration:  600 / 2000 [ 30%]  (Warmup)\n",
      "Iteration:  800 / 2000 [ 40%]  (Warmup)\n",
      "Iteration:  800 / 2000 [ 40%]  (Warmup)\n",
      "Iteration:  800 / 2000 [ 40%]  (Warmup)\n",
      "Iteration:  800 / 2000 [ 40%]  (Warmup)\n",
      "Iteration: 1000 / 2000 [ 50%]  (Warmup)\n",
      "Iteration: 1001 / 2000 [ 50%]  (Sampling)\n",
      "Iteration: 1000 / 2000 [ 50%]  (Warmup)\n",
      "Iteration: 1001 / 2000 [ 50%]  (Sampling)\n",
      "Iteration: 1000 / 2000 [ 50%]  (Warmup)\n",
      "Iteration: 1001 / 2000 [ 50%]  (Sampling)\n",
      "Iteration: 1000 / 2000 [ 50%]  (Warmup)\n",
      "Iteration: 1001 / 2000 [ 50%]  (Sampling)\n",
      "Iteration: 1200 / 2000 [ 60%]  (Sampling)\n",
      "Iteration: 1200 / 2000 [ 60%]  (Sampling)\n",
      "Iteration: 1200 / 2000 [ 60%]  (Sampling)\n",
      "Iteration: 1200 / 2000 [ 60%]  (Sampling)\n",
      "Iteration: 1400 / 2000 [ 70%]  (Sampling)\n",
      "Iteration: 1400 / 2000 [ 70%]  (Sampling)\n",
      "Iteration: 1400 / 2000 [ 70%]  (Sampling)\n",
      "Iteration: 1400 / 2000 [ 70%]  (Sampling)\n",
      "Iteration: 1600 / 2000 [ 80%]  (Sampling)\n",
      "Iteration: 1600 / 2000 [ 80%]  (Sampling)\n",
      "Iteration: 1600 / 2000 [ 80%]  (Sampling)\n",
      "Iteration: 1600 / 2000 [ 80%]  (Sampling)\n",
      "Iteration: 1800 / 2000 [ 90%]  (Sampling)\n",
      "Iteration: 1800 / 2000 [ 90%]  (Sampling)\n",
      "Iteration: 1800 / 2000 [ 90%]  (Sampling)\n",
      "Iteration: 1800 / 2000 [ 90%]  (Sampling)\n",
      "Iteration: 2000 / 2000 [100%]  (Sampling)\n",
      "\n",
      " Elapsed Time: 0.141279 seconds (Warm-up)\n",
      "               0.151948 seconds (Sampling)\n",
      "               0.293227 seconds (Total)\n",
      "\n",
      "Iteration: 2000 / 2000 [100%]  (Sampling)\n",
      "\n",
      " Elapsed Time: 0.130091 seconds (Warm-up)\n",
      "               0.156839 seconds (Sampling)\n",
      "               0.28693 seconds (Total)\n",
      "\n",
      "Iteration: 2000 / 2000 [100%]  (Sampling)\n",
      "\n",
      " Elapsed Time: 0.136739 seconds (Warm-up)\n",
      "               0.156256 seconds (Sampling)\n",
      "               0.292995 seconds (Total)\n",
      "\n",
      "Iteration: 2000 / 2000 [100%]  (Sampling)\n",
      "\n",
      " Elapsed Time: 0.137075 seconds (Warm-up)\n",
      "               0.165255 seconds (Sampling)\n",
      "               0.30233 seconds (Total)\n",
      "\n"
     ]
    }
   ],
   "source": [
    "fit = get_fit('y ~ 1 + x0 + x1 + x2', df)"
   ]
  },
  {
   "cell_type": "code",
   "execution_count": 6,
   "id": "d8a61ec0-9858-41bb-8a12-d52a3f19f252",
   "metadata": {},
   "outputs": [
    {
     "data": {
      "text/plain": [
       "(0.3, array([ 1.,  2., -1.]), 0.5)"
      ]
     },
     "execution_count": 6,
     "metadata": {},
     "output_type": "execute_result"
    }
   ],
   "source": [
    "INTERCEPT_TRUE, BETA_TRUE, SIGMA_TRUE"
   ]
  },
  {
   "cell_type": "code",
   "execution_count": 7,
   "id": "0416f39e-3b48-416c-b4cc-2d5cbb7c172a",
   "metadata": {},
   "outputs": [
    {
     "data": {
      "text/plain": [
       "Inference for Stan model: anon_model_1b841a0b821361327974e16f7afbc4d1.\n",
       "4 chains, each with iter=2000; warmup=1000; thin=1; \n",
       "post-warmup draws per chain=1000, total post-warmup draws=4000.\n",
       "\n",
       "          mean se_mean     sd   2.5%    25%    50%    75%  97.5%  n_eff   Rhat\n",
       "beta[1]    0.3  3.5e-5 1.2e-3    0.3    0.3    0.3    0.3    0.3   1180    1.0\n",
       "beta[2]    1.0  9.0e-6 4.3e-4    1.0    1.0    1.0    1.0    1.0   2293    1.0\n",
       "beta[3]    2.0  8.6e-6 4.3e-4    2.0    2.0    2.0    2.0    2.0   2511    1.0\n",
       "beta[4]   -1.0  8.3e-6 4.3e-4   -1.0   -1.0   -1.0   -1.0   -1.0   2689    1.0\n",
       "sigma      0.5  6.3e-6 3.5e-4    0.5    0.5    0.5    0.5    0.5   3185    1.0\n",
       "lp__    -7.3e5    0.04   1.52 -7.3e5 -7.3e5 -7.3e5 -7.3e5 -7.3e5   1886    1.0\n",
       "\n",
       "Samples were drawn using NUTS at Sun Aug 25 14:58:42 2024.\n",
       "For each parameter, n_eff is a crude measure of effective sample size,\n",
       "and Rhat is the potential scale reduction factor on split chains (at \n",
       "convergence, Rhat=1)."
      ]
     },
     "execution_count": 7,
     "metadata": {},
     "output_type": "execute_result"
    }
   ],
   "source": [
    "fit"
   ]
  },
  {
   "cell_type": "code",
   "execution_count": 8,
   "id": "0da76eac-920a-4046-b627-47cbef117930",
   "metadata": {},
   "outputs": [
    {
     "data": {
      "image/png": "[encoded data removed]",
      "text/plain": [
       "<Figure size 600x700 with 1 Axes>"
      ]
     },
     "metadata": {},
     "output_type": "display_data"
    }
   ],
   "source": [
    "_ = az.plot_forest(fit)"
   ]
  }
 ],
 "metadata": {
  "kernelspec": {
   "display_name": "Python 3 (ipykernel)",
   "language": "python",
   "name": "python3"
  },
  "language_info": {
   "codemirror_mode": {
    "name": "ipython",
    "version": 3
   },
   "file_extension": ".py",
   "mimetype": "text/x-python",
   "name": "python",
   "nbconvert_exporter": "python",
   "pygments_lexer": "ipython3",
   "version": "3.9.13"
  }
 },
 "nbformat": 4,
 "nbformat_minor": 5
}
